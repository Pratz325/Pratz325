{
 "cells": [
  {
   "cell_type": "markdown",
   "id": "5831a338",
   "metadata": {},
   "source": [
    "The 'encrypt' function takes in a string. Then iterates through the letters of the string. For each letter, it takes its UTF-8 code.\n",
    "Then converts it to the corresponding position of the letter in the Alphabet series. THen it plugs this number into the sine function, which gives a value between -1 and 1.\n",
    "Multiply this by 26 and remove the fractional part. Then take the absolute value. The number will be the position of a letter in the Alphabet series.\n",
    "Convert this into the corresponding UTF-8 code. Then convert it into a character and append to a list which will be returned.\n",
    "\n",
    "There is another list which collects the removed fractional parts and is returned with the encrypted string. This was to be used in the decryption function, which isn't finished yet."
   ]
  },
  {
   "cell_type": "code",
   "execution_count": 92,
   "id": "255a05df",
   "metadata": {},
   "outputs": [],
   "source": [
    "import math\n",
    "import numpy as np"
   ]
  },
  {
   "cell_type": "code",
   "execution_count": 93,
   "id": "08416477",
   "metadata": {},
   "outputs": [],
   "source": [
    "def encrypt(input_string):\n",
    "    \n",
    "    encrypted_string = []\n",
    "    decimal_part = [] #serves as a key for decrypting\n",
    "    \n",
    "    for letter in input_string: #encryption is performed letter-wise independently\n",
    "        x = ord(letter)\n",
    "        \n",
    "        decimal = 26*math.sin(x) - int(26*math.sin(x)) #the decimal part which otherwise gets lost is retained in this step\n",
    "        decimal_part.append(decimal)\n",
    "        \n",
    "        if x > 64 and x < 91: #Upper case letters\n",
    "            x -= 64\n",
    "            encrypted_string.append(chr(64 + abs(int(26*math.sin(x)))))\n",
    "            \n",
    "        elif x > 96 and x < 123: #Lower case letters\n",
    "            x -= 96\n",
    "            encrypted_string.append(chr(96 + abs(int(26*math.sin(x)))))\n",
    "            \n",
    "        else:\n",
    "            print('Invalid!')\n",
    "            \n",
    "    return encrypted_string, decimal_part"
   ]
  },
  {
   "cell_type": "code",
   "execution_count": 94,
   "id": "2575dc6a",
   "metadata": {},
   "outputs": [],
   "source": [
    "new, fract = encrypt('Hulk')"
   ]
  },
  {
   "cell_type": "code",
   "execution_count": 95,
   "id": "3a9fcc8f",
   "metadata": {},
   "outputs": [
    {
     "data": {
      "text/plain": [
       "['Y', 'u', 'm', 'y']"
      ]
     },
     "execution_count": 95,
     "metadata": {},
     "output_type": "execute_result"
    }
   ],
   "source": [
    "new"
   ]
  },
  {
   "cell_type": "code",
   "execution_count": 96,
   "id": "58336278",
   "metadata": {},
   "outputs": [
    {
     "data": {
      "text/plain": [
       "[0.599407431812943, -0.932146464320116, 0.09728114086241035, 0.804325358577354]"
      ]
     },
     "execution_count": 96,
     "metadata": {},
     "output_type": "execute_result"
    }
   ],
   "source": [
    "fract"
   ]
  },
  {
   "cell_type": "code",
   "execution_count": 139,
   "id": "11065a39",
   "metadata": {},
   "outputs": [],
   "source": [
    "def decrypt(code, key): #doesnt work yet\n",
    "    orig = []\n",
    "    for y,f in zip(code, key):\n",
    "        p = ord(y)\n",
    "        if p > 64 and p < 91:\n",
    "            orig.append(chr(64+int(np.arcsin(float((p-64)+f)/26.0))))\n",
    "        elif p > 96 and p < 123:\n",
    "            orig.append(chr(96+int(np.arcsin(float((p-96)+f)/26.0))))\n",
    "    return orig"
   ]
  },
  {
   "cell_type": "code",
   "execution_count": 195,
   "id": "c749a769",
   "metadata": {},
   "outputs": [],
   "source": [
    "def encrypt2(st):\n",
    "    new = []\n",
    "    for y in st:\n",
    "        x = ord(y)\n",
    "        if x > 64 and x < 91:\n",
    "            x -= 64\n",
    "            new.append(chr(64 + abs(int(26*math.sin(math.radians(x))))))\n",
    "        elif x > 96 and x < 123:\n",
    "            x -= 96\n",
    "            new.append(chr(96 + abs(int(26*math.sin(math.radians(x))))))\n",
    "        else:\n",
    "            print('Invalid!')\n",
    "    print(new)"
   ]
  }
 ],
 "metadata": {
  "kernelspec": {
   "display_name": "Python 3 (ipykernel)",
   "language": "python",
   "name": "python3"
  },
  "language_info": {
   "codemirror_mode": {
    "name": "ipython",
    "version": 3
   },
   "file_extension": ".py",
   "mimetype": "text/x-python",
   "name": "python",
   "nbconvert_exporter": "python",
   "pygments_lexer": "ipython3",
   "version": "3.11.5"
  }
 },
 "nbformat": 4,
 "nbformat_minor": 5
}
