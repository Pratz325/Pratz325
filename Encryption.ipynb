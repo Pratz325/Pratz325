{
 "cells": [
  {
   "cell_type": "markdown",
   "id": "e98a56b5",
   "metadata": {},
   "source": [
    "The 'encrypt' function takes in a string. Then iterates through the letters of the string. For each letter, it takes its UTF-8 code.\n",
    "Then converts it to the corresponding position of the letter in the Alphabet series. THen it plugs this number into the sine function, which gives a value between -1 and 1.\n",
    "Multiply this by 26 and remove the fractional part. Then take the absolute value. The number will be the position of a letter in the Alphabet series.\n",
    "Convert this into the corresponding UTF-8 code. Then convert it into a character and append to a list which will be returned.\n",
    "\n",
    "There is another list which collects the removed fractional parts and is returned with the encrypted string. This was to be used in the decryption function, which isn't finished yet."
   ]
  },
  {
   "cell_type": "code",
   "execution_count": 1,
   "id": "255a05df",
   "metadata": {},
   "outputs": [],
   "source": [
    "import math\n",
    "import numpy as np"
   ]
  },
  {
   "cell_type": "code",
   "execution_count": 4,
   "id": "08416477",
   "metadata": {},
   "outputs": [],
   "source": [
    "def encrypt(input_string):\n",
    "    \n",
    "    encrypted_string = []\n",
    "    decimal_part = [] #serves as a key for decrypting\n",
    "    \n",
    "    for letter in input_string: #encryption is performed letter-wise independently\n",
    "        x = ord(letter)\n",
    "        \n",
    "        decimal = 26*math.sin(x) - int(26*math.sin(x)) #the decimal part which otherwise gets lost is retained in this step\n",
    "        decimal_part.append(decimal)\n",
    "        \n",
    "        if x > 64 and x < 91: #Upper case letters\n",
    "            x -= 64\n",
    "            encrypted_string.append(chr(64 + abs(int(26*math.sin(x)))))\n",
    "            \n",
    "        elif x > 96 and x < 123: #Lower case letters\n",
    "            x -= 96\n",
    "            encrypted_string.append(chr(96 + abs(int(26*math.sin(x)))))\n",
    "            \n",
    "        else:\n",
    "            print('Invalid!')\n",
    "            \n",
    "    return encrypted_string, decimal_part"
   ]
  },
  {
   "cell_type": "code",
   "execution_count": 5,
   "id": "2575dc6a",
   "metadata": {},
   "outputs": [],
   "source": [
    "new, fract = encrypt('Hulk')"
   ]
  },
  {
   "cell_type": "code",
   "execution_count": 6,
   "id": "3a9fcc8f",
   "metadata": {},
   "outputs": [
    {
     "data": {
      "text/plain": [
       "['Y', 'u', 'm', 'y']"
      ]
     },
     "execution_count": 6,
     "metadata": {},
     "output_type": "execute_result"
    }
   ],
   "source": [
    "new"
   ]
  },
  {
   "cell_type": "code",
   "execution_count": 7,
   "id": "58336278",
   "metadata": {},
   "outputs": [
    {
     "data": {
      "text/plain": [
       "[0.599407431812943, -0.932146464320116, 0.09728114086241035, 0.804325358577354]"
      ]
     },
     "execution_count": 7,
     "metadata": {},
     "output_type": "execute_result"
    }
   ],
   "source": [
    "fract"
   ]
  },
  {
   "cell_type": "code",
   "execution_count": 139,
   "id": "11065a39",
   "metadata": {},
   "outputs": [],
   "source": [
    "def decrypt(code, key): #doesnt work yet\n",
    "    orig = []\n",
    "    for y,f in zip(code, key):\n",
    "        p = ord(y)\n",
    "        if p > 64 and p < 91:\n",
    "            orig.append(chr(64+int(np.arcsin(float((p-64)+f)/26.0))))\n",
    "        elif p > 96 and p < 123:\n",
    "            orig.append(chr(96+int(np.arcsin(float((p-96)+f)/26.0))))\n",
    "    return orig"
   ]
  },
  {
   "cell_type": "code",
   "execution_count": 140,
   "id": "3658d788",
   "metadata": {},
   "outputs": [],
   "source": [
    "original = decrypt(new, fract)"
   ]
  },
  {
   "cell_type": "code",
   "execution_count": 141,
   "id": "4b443828",
   "metadata": {},
   "outputs": [
    {
     "data": {
      "text/plain": [
       "['@', 'a', '`']"
      ]
     },
     "execution_count": 141,
     "metadata": {},
     "output_type": "execute_result"
    }
   ],
   "source": [
    "original"
   ]
  },
  {
   "cell_type": "code",
   "execution_count": 8,
   "id": "340affe1",
   "metadata": {},
   "outputs": [],
   "source": [
    "def alpha_to_code_0(ch):\n",
    "    alpha_dict = {\"A\":0, \"B\":1, \"C\":2, \"D\":3, \"E\":4, \"F\":5, \"G\":6, \"H\":7, \"I\":8, \"J\":9, \"K\":10, \"L\":11, \"M\":12, \"N\":13, \"O\":14, \"P\":15, \"Q\":16, \"R\":17, \"S\":18, \"T\":19, \"U\":20, \"V\":21, \"W\":22, \"X\":23, \"Y\":24, \"Z\":25}\n",
    "    return alpha_dict[ch]"
   ]
  },
  {
   "cell_type": "code",
   "execution_count": 9,
   "id": "71c3254d",
   "metadata": {},
   "outputs": [],
   "source": [
    "def alpha_to_code_1(ch):\n",
    "    alpha_dict = {\"A\":0, \"B\":1, \"C\":2, \"D\":3, \"E\":4, \"F\":5, \"G\":6, \"H\":7, \"I\":8, \"J\":9, \"K\":10, \"L\":11, \"M\":12, \"N\":13, \"O\":14, \"P\":15, \"Q\":16, \"R\":17, \"S\":18, \"T\":19, \"U\":20, \"V\":21, \"W\":22, \"X\":23, \"Y\":24, \"Z\":25}\n",
    "    return alpha_dict[ch]+1"
   ]
  },
  {
   "cell_type": "code",
   "execution_count": 10,
   "id": "7aeeb699",
   "metadata": {},
   "outputs": [],
   "source": [
    "def code_to_alpha_0(ele):\n",
    "    if ele > 25:\n",
    "        ele -= 26\n",
    "    alpha_dict = {0:\"A\", 1:\"B\", 2:\"C\", 3:\"D\", 4:\"E\", 5:\"F\", 6:\"G\", 7:\"H\", 8:\"I\", 9:\"J\", 10:\"K\", 11:\"L\", 12:\"M\", 13:\"N\", 14:\"O\", 15:\"P\", 16:\"Q\", 17:\"R\", 18:\"S\", 19:\"T\", 20:\"U\", 21:\"V\", 22:\"W\", 23:\"X\", 24:\"Y\", 25:\"Z\"}\n",
    "    return alpha_dict[ele]"
   ]
  },
  {
   "cell_type": "code",
   "execution_count": 195,
   "id": "c749a769",
   "metadata": {},
   "outputs": [],
   "source": [
    "def encrypt2(st):\n",
    "    new = []\n",
    "    for y in st:\n",
    "        x = ord(y)\n",
    "        if x > 64 and x < 91:\n",
    "            x -= 64\n",
    "            new.append(chr(64 + abs(int(26*math.sin(math.radians(x))))))\n",
    "        elif x > 96 and x < 123:\n",
    "            x -= 96\n",
    "            new.append(chr(96 + abs(int(26*math.sin(math.radians(x))))))\n",
    "        else:\n",
    "            print('Invalid!')\n",
    "    print(new)"
   ]
  },
  {
   "cell_type": "markdown",
   "id": "090dc079",
   "metadata": {},
   "source": [
    "The 'Encrypt_matrix' function takes in a string, reads the first four characters, takes the corresponding position in the Alphabet Series and forms a 2x2 matrix. Then it takes the determinant of the matrix and divides the determinant by 26(total number of alphabets), let this value be 'key'. Then going through the inpuit string, it creates a new string such that the first character of the new string is a 'key' characters ahead the first character of old string, and 'key'+1 characters ahead for next character and so on.\n",
    "\n",
    "The function returns a 'key_vector' list which can be used to decrypt the encryption"
   ]
  },
  {
   "cell_type": "code",
   "execution_count": 24,
   "id": "66e8a039",
   "metadata": {},
   "outputs": [],
   "source": [
    "def Encrypt_matrix(input_string):\n",
    "    \n",
    "    Encrypt_string = []\n",
    "    key_vector = []\n",
    "    code_vector = []\n",
    "    transform_matrix = [[], []]\n",
    "    \n",
    "    i = 0\n",
    "    j = 0\n",
    "    \n",
    "    while i < 4:\n",
    "        for letter in input_string:\n",
    "            key_vector.append(alpha_to_code_0(letter))\n",
    "            i+=1\n",
    "    \n",
    "    key_vector = np.array(key_vector)\n",
    "    \n",
    "    transform_matrix = key_vector[:4].reshape(2,2)\n",
    "    \n",
    "    det = abs(int(np.linalg.det(transform_matrix)/26))\n",
    "    \n",
    "    code_vector = np.add(key_vector, det)\n",
    "    \n",
    "    for element in code_vector:\n",
    "        Encrypt_string.append(code_to_alpha_0(element + j))\n",
    "        j += 1\n",
    "    \n",
    "    return Encrypt_string, key_vector"
   ]
  },
  {
   "cell_type": "code",
   "execution_count": 56,
   "id": "95ebcb31",
   "metadata": {},
   "outputs": [],
   "source": [
    "st,d = Encrypt_matrix('LEAD')"
   ]
  },
  {
   "cell_type": "code",
   "execution_count": 57,
   "id": "05b8b40e",
   "metadata": {},
   "outputs": [
    {
     "data": {
      "text/plain": [
       "['M', 'G', 'D', 'H']"
      ]
     },
     "execution_count": 57,
     "metadata": {},
     "output_type": "execute_result"
    }
   ],
   "source": [
    "st"
   ]
  },
  {
   "cell_type": "code",
   "execution_count": 58,
   "id": "9a7c3d26",
   "metadata": {},
   "outputs": [
    {
     "data": {
      "text/plain": [
       "array([11,  4,  0,  3])"
      ]
     },
     "execution_count": 58,
     "metadata": {},
     "output_type": "execute_result"
    }
   ],
   "source": [
    "d"
   ]
  },
  {
   "cell_type": "markdown",
   "id": "609dbab4",
   "metadata": {},
   "source": [
    "The 'Decrypt_matrix' takes the encrypted string and the key vector as input. It undoes the operations of the 'Encrypt_matrix' function and returns the decrypted, original string "
   ]
  },
  {
   "cell_type": "code",
   "execution_count": 54,
   "id": "b69a91f3",
   "metadata": {},
   "outputs": [],
   "source": [
    "def Decrypt_matrix(encrypt_string, key_vector):\n",
    "    \n",
    "    decrypt_string = []\n",
    "    det_matrix = [[], []]\n",
    "    \n",
    "    det_matrix = key_vector.reshape(2,2)\n",
    "    det = abs(int(np.linalg.det(det_matrix)/26))\n",
    "    \n",
    "    j = 0\n",
    "    for element in encrypt_string:\n",
    "        code = alpha_to_code_0(element)\n",
    "        if code-det-j < 0:\n",
    "            code = 26-det-j+code\n",
    "        else:\n",
    "            code = code-det-j\n",
    "        decrypt_string.append(code_to_alpha_0(code))\n",
    "        j += 1\n",
    "    return decrypt_string"
   ]
  },
  {
   "cell_type": "code",
   "execution_count": 59,
   "id": "a972d570",
   "metadata": {},
   "outputs": [
    {
     "data": {
      "text/plain": [
       "['L', 'E', 'A', 'D']"
      ]
     },
     "execution_count": 59,
     "metadata": {},
     "output_type": "execute_result"
    }
   ],
   "source": [
    "Decrypt_matrix(st, d)"
   ]
  },
  {
   "cell_type": "code",
   "execution_count": null,
   "id": "32a7ef8a",
   "metadata": {},
   "outputs": [],
   "source": []
  }
 ],
 "metadata": {
  "kernelspec": {
   "display_name": "Python 3 (ipykernel)",
   "language": "python",
   "name": "python3"
  },
  "language_info": {
   "codemirror_mode": {
    "name": "ipython",
    "version": 3
   },
   "file_extension": ".py",
   "mimetype": "text/x-python",
   "name": "python",
   "nbconvert_exporter": "python",
   "pygments_lexer": "ipython3",
   "version": "3.11.5"
  }
 },
 "nbformat": 4,
 "nbformat_minor": 5
}
