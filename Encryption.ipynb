{
 "cells": [
  {
   "cell_type": "code",
   "execution_count": 143,
   "id": "255a05df",
   "metadata": {},
   "outputs": [],
   "source": [
    "import math\n",
    "import numpy as np"
   ]
  },
  {
   "cell_type": "code",
   "execution_count": 144,
   "id": "08416477",
   "metadata": {},
   "outputs": [],
   "source": [
    "def encrypt(input_string):\n",
    "    \n",
    "    encrpted_string = []\n",
    "    decimal_part = [] #serves as a key for decrypting\n",
    "    \n",
    "    for letter in input_string: #encryption is performed letter-wise independently\n",
    "        x = ord(letter)\n",
    "        \n",
    "        decimal = 26*math.sin(x) - int(26*math.sin(x)) #the decimal part which otherwise gets lost is retained in this step\n",
    "        decimal_part.append(decimal)\n",
    "        \n",
    "        if x > 64 and x < 91: #Upper case letters\n",
    "            x -= 64\n",
    "            encrypted_string.append(chr(64 + abs(int(26*math.sin(x)))))\n",
    "            \n",
    "        elif x > 96 and x < 123: #Lower case letters\n",
    "            x -= 96\n",
    "            encrypted_string.append(chr(96 + abs(int(26*math.sin(x)))))\n",
    "            \n",
    "        else:\n",
    "            print('Invalid!')\n",
    "            \n",
    "    return encrypted_string, decimal_part"
   ]
  },
  {
   "cell_type": "code",
   "execution_count": 193,
   "id": "4c89bf71",
   "metadata": {},
   "outputs": [],
   "source": [
    "new, fract = encrypt('Hulk')"
   ]
  },
  {
   "cell_type": "code",
   "execution_count": 194,
   "id": "15091a76",
   "metadata": {},
   "outputs": [
    {
     "data": {
      "text/plain": [
       "['Y', 'u', 'm', 'y']"
      ]
     },
     "execution_count": 194,
     "metadata": {},
     "output_type": "execute_result"
    }
   ],
   "source": [
    "new"
   ]
  },
  {
   "cell_type": "code",
   "execution_count": 150,
   "id": "260e8f16",
   "metadata": {},
   "outputs": [
    {
     "data": {
      "text/plain": [
       "[0.599407431812943, -0.932146464320116, 0.09728114086241035, 0.804325358577354]"
      ]
     },
     "execution_count": 150,
     "metadata": {},
     "output_type": "execute_result"
    }
   ],
   "source": [
    "fract"
   ]
  },
  {
   "cell_type": "code",
   "execution_count": 139,
   "id": "431657b9",
   "metadata": {},
   "outputs": [],
   "source": [
    "def decrypt(code, key): #doesnt work yet\n",
    "    orig = []\n",
    "    for y,f in zip(code, key):\n",
    "        p = ord(y)\n",
    "        if p > 64 and p < 91:\n",
    "            orig.append(chr(64+int(np.arcsin(float((p-64)+f)/26.0))))\n",
    "        elif p > 96 and p < 123:\n",
    "            orig.append(chr(96+int(np.arcsin(float((p-96)+f)/26.0))))\n",
    "    return orig"
   ]
  },
  {
   "cell_type": "code",
   "execution_count": 140,
   "id": "d3ef83ce",
   "metadata": {},
   "outputs": [],
   "source": [
    "original = decrypt(new, fract)"
   ]
  },
  {
   "cell_type": "code",
   "execution_count": 141,
   "id": "f2a2f4a7",
   "metadata": {},
   "outputs": [
    {
     "data": {
      "text/plain": [
       "['@', 'a', '`']"
      ]
     },
     "execution_count": 141,
     "metadata": {},
     "output_type": "execute_result"
    }
   ],
   "source": [
    "original"
   ]
  },
  {
   "cell_type": "code",
   "execution_count": 53,
   "id": "f9aa6d6e",
   "metadata": {},
   "outputs": [],
   "source": [
    "def encrypt2(st):\n",
    "    new = []\n",
    "    for y in st:\n",
    "        x = ord(y)\n",
    "        if x > 64 and x < 91:\n",
    "            x -= 64\n",
    "            new.append(chr(64 + abs(int(26*math.sin(math.radians(x))))))\n",
    "        elif x > 96 and x < 123:\n",
    "            x -= 96\n",
    "            new.append(chr(96 + abs(int(26*math.sin(math.radians(x))))))\n",
    "        else:\n",
    "            print('Invalid!')\n",
    "    print(new)"
   ]
  }
 ],
 "metadata": {
  "kernelspec": {
   "display_name": "Python 3 (ipykernel)",
   "language": "python",
   "name": "python3"
  },
  "language_info": {
   "codemirror_mode": {
    "name": "ipython",
    "version": 3
   },
   "file_extension": ".py",
   "mimetype": "text/x-python",
   "name": "python",
   "nbconvert_exporter": "python",
   "pygments_lexer": "ipython3",
   "version": "3.11.5"
  }
 },
 "nbformat": 4,
 "nbformat_minor": 5
}
