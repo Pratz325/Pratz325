{
 "cells": [
  {
   "cell_type": "markdown",
   "id": "621433d3",
   "metadata": {},
   "source": [
    "The 'Encrypt_matrix' function takes in a string, reads the first four characters, takes the corresponding position in the Alphabet Series and forms a 2x2 matrix. Then it takes the determinant of the matrix and divides the determinant by 26(total number of alphabets), let this value be 'key'. Then going through the inpuit string, it creates a new string such that the first character of the new string is a 'key' characters ahead the first character of old string, and 'key'+1 characters ahead for next character and so on.\n",
    "\n",
    "The function returns a 'key_vector' list which can be used to decrypt the encryption"
   ]
  },
  {
   "cell_type": "code",
   "execution_count": 6,
   "id": "2cc8de5c",
   "metadata": {},
   "outputs": [],
   "source": [
    "import math\n",
    "import numpy as np"
   ]
  },
  {
   "cell_type": "code",
   "execution_count": 1,
   "id": "1d6394ca",
   "metadata": {},
   "outputs": [],
   "source": [
    "def alpha_to_code_0(ch):\n",
    "    alpha_dict = {\"A\":0, \"B\":1, \"C\":2, \"D\":3, \"E\":4, \"F\":5, \"G\":6, \"H\":7, \"I\":8, \"J\":9, \"K\":10, \"L\":11, \"M\":12, \"N\":13, \"O\":14, \"P\":15, \"Q\":16, \"R\":17, \"S\":18, \"T\":19, \"U\":20, \"V\":21, \"W\":22, \"X\":23, \"Y\":24, \"Z\":25}\n",
    "    return alpha_dict[ch]"
   ]
  },
  {
   "cell_type": "code",
   "execution_count": 2,
   "id": "d06b36a7",
   "metadata": {},
   "outputs": [],
   "source": [
    "def alpha_to_code_1(ch):\n",
    "    alpha_dict = {\"A\":0, \"B\":1, \"C\":2, \"D\":3, \"E\":4, \"F\":5, \"G\":6, \"H\":7, \"I\":8, \"J\":9, \"K\":10, \"L\":11, \"M\":12, \"N\":13, \"O\":14, \"P\":15, \"Q\":16, \"R\":17, \"S\":18, \"T\":19, \"U\":20, \"V\":21, \"W\":22, \"X\":23, \"Y\":24, \"Z\":25}\n",
    "    return alpha_dict[ch]+1"
   ]
  },
  {
   "cell_type": "code",
   "execution_count": 3,
   "id": "89a07490",
   "metadata": {},
   "outputs": [],
   "source": [
    "def code_to_alpha_0(ele):\n",
    "    if ele > 25:\n",
    "        ele -= 26\n",
    "    alpha_dict = {0:\"A\", 1:\"B\", 2:\"C\", 3:\"D\", 4:\"E\", 5:\"F\", 6:\"G\", 7:\"H\", 8:\"I\", 9:\"J\", 10:\"K\", 11:\"L\", 12:\"M\", 13:\"N\", 14:\"O\", 15:\"P\", 16:\"Q\", 17:\"R\", 18:\"S\", 19:\"T\", 20:\"U\", 21:\"V\", 22:\"W\", 23:\"X\", 24:\"Y\", 25:\"Z\"}\n",
    "    return alpha_dict[ele]"
   ]
  },
  {
   "cell_type": "code",
   "execution_count": 7,
   "id": "9d8fb86d",
   "metadata": {},
   "outputs": [],
   "source": [
    "def Encrypt_matrix(input_string):\n",
    "    \n",
    "    Encrypt_string = [] #Final encrpted string to be stored in this\n",
    "    alpha_code_vector = [] #List containing the alphabetical indices of first 4 characters\n",
    "    code_vector = [] #Used in encryption process and will be returned(after being appended witht he determinant value) for decryption\n",
    "    transform_matrix = [[], []] \n",
    "    \n",
    "    i = 0\n",
    "    j = 0\n",
    "    \n",
    "    while i < 4: #Considering only first four letter to form 2x2 matrix(to find determinant of)\n",
    "        for letter in input_string:\n",
    "            alpha_code_vector.append(alpha_to_code_0(letter))\n",
    "            i+=1\n",
    "    \n",
    "    alpha_code_vector = np.array(alpha_code_vector)\n",
    "    \n",
    "    transform_matrix = alpha_code_vector[:4].reshape(2,2)\n",
    "    \n",
    "    det = abs(int(np.linalg.det(transform_matrix)/26))\n",
    "    \n",
    "    code_vector = np.add(alpha_code_vector, det)\n",
    "    \n",
    "    for element in code_vector:\n",
    "        Encrypt_string.append(code_to_alpha_0(element + j))\n",
    "        j += 1\n",
    "    \n",
    "    return Encrypt_string, np.append(code_vector, det)"
   ]
  },
  {
   "cell_type": "code",
   "execution_count": 8,
   "id": "9ddd4ce3",
   "metadata": {},
   "outputs": [],
   "source": [
    "st,d = Encrypt_matrix('TEST')"
   ]
  },
  {
   "cell_type": "code",
   "execution_count": 9,
   "id": "eb01b8d3",
   "metadata": {},
   "outputs": [
    {
     "data": {
      "text/plain": [
       "['E', 'Q', 'F', 'H']"
      ]
     },
     "execution_count": 9,
     "metadata": {},
     "output_type": "execute_result"
    }
   ],
   "source": [
    "st"
   ]
  },
  {
   "cell_type": "code",
   "execution_count": 10,
   "id": "5017d6fe",
   "metadata": {},
   "outputs": [
    {
     "data": {
      "text/plain": [
       "array([30, 15, 29, 30, 11])"
      ]
     },
     "execution_count": 10,
     "metadata": {},
     "output_type": "execute_result"
    }
   ],
   "source": [
    "d"
   ]
  },
  {
   "cell_type": "markdown",
   "id": "b5f15e8b",
   "metadata": {},
   "source": [
    "The 'Decrypt_matrix' takes the encrypted string and the key vector as input. It undoes the operations of the 'Encrypt_matrix' function and returns the decrypted, original string"
   ]
  },
  {
   "cell_type": "code",
   "execution_count": 11,
   "id": "1c18ae28",
   "metadata": {},
   "outputs": [],
   "source": [
    "def Decrypt_matrix(encrypt_string, key_vector):\n",
    "    \n",
    "    decrypt_string = []\n",
    "    key = key_vector[-1]\n",
    "    code_vector = []\n",
    "    \n",
    "    code_vector = key_vector[:-1]\n",
    "    code_vector = np.add(code_vector, (-key))\n",
    "    for element in code_vector:    \n",
    "        decrypt_string.append(code_to_alpha_0(element))\n",
    "    \n",
    "    return decrypt_string"
   ]
  },
  {
   "cell_type": "code",
   "execution_count": 12,
   "id": "e2ea6c98",
   "metadata": {},
   "outputs": [
    {
     "data": {
      "text/plain": [
       "['T', 'E', 'S', 'T']"
      ]
     },
     "execution_count": 12,
     "metadata": {},
     "output_type": "execute_result"
    }
   ],
   "source": [
    "Decrypt_matrix(st, d)"
   ]
  },
  {
   "cell_type": "code",
   "execution_count": null,
   "id": "e0a1c786",
   "metadata": {},
   "outputs": [],
   "source": []
  }
 ],
 "metadata": {
  "kernelspec": {
   "display_name": "Python 3 (ipykernel)",
   "language": "python",
   "name": "python3"
  },
  "language_info": {
   "codemirror_mode": {
    "name": "ipython",
    "version": 3
   },
   "file_extension": ".py",
   "mimetype": "text/x-python",
   "name": "python",
   "nbconvert_exporter": "python",
   "pygments_lexer": "ipython3",
   "version": "3.11.5"
  }
 },
 "nbformat": 4,
 "nbformat_minor": 5
}
