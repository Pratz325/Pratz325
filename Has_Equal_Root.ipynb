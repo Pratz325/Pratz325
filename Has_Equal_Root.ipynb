{
 "cells": [
  {
   "cell_type": "markdown",
   "id": "5d31f8e2",
   "metadata": {},
   "source": [
    "The 'has_equal_root' function takes in a number and checks if it has equal roots. If yes, it returns True, else it returns False."
   ]
  },
  {
   "cell_type": "code",
   "execution_count": 1,
   "id": "f76ab4fd",
   "metadata": {},
   "outputs": [],
   "source": [
    "import math"
   ]
  },
  {
   "cell_type": "code",
   "execution_count": 2,
   "id": "9ff61c88",
   "metadata": {},
   "outputs": [],
   "source": [
    "def has_equal_root(number):\n",
    "    return math.sqrt(number) == int(math.sqrt(number))"
   ]
  },
  {
   "cell_type": "code",
   "execution_count": 3,
   "id": "0e294d5a",
   "metadata": {},
   "outputs": [
    {
     "data": {
      "text/plain": [
       "True"
      ]
     },
     "execution_count": 3,
     "metadata": {},
     "output_type": "execute_result"
    }
   ],
   "source": [
    "has_root(225)"
   ]
  },
  {
   "cell_type": "code",
   "execution_count": 4,
   "id": "e3d34559",
   "metadata": {},
   "outputs": [
    {
     "data": {
      "text/plain": [
       "False"
      ]
     },
     "execution_count": 4,
     "metadata": {},
     "output_type": "execute_result"
    }
   ],
   "source": [
    "has_root(3485)"
   ]
  }
 ],
 "metadata": {
  "kernelspec": {
   "display_name": "Python 3 (ipykernel)",
   "language": "python",
   "name": "python3"
  },
  "language_info": {
   "codemirror_mode": {
    "name": "ipython",
    "version": 3
   },
   "file_extension": ".py",
   "mimetype": "text/x-python",
   "name": "python",
   "nbconvert_exporter": "python",
   "pygments_lexer": "ipython3",
   "version": "3.11.5"
  }
 },
 "nbformat": 4,
 "nbformat_minor": 5
}
